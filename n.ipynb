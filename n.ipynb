{
 "cells": [
  {
   "cell_type": "code",
   "execution_count": null,
   "metadata": {},
   "outputs": [
    {
     "ename": "",
     "evalue": "",
     "output_type": "error",
     "traceback": [
      "\u001b[1;31m커널을 시작하지 못했습니다. \n",
      "Traceback (most recent call last):\n",
      "  File \"/Users/dongdori/.vscode/extensions/ms-toolsai.jupyter-2022.6.1201981810/pythonFiles/vscode_datascience_helpers/jupyter_daemon.py\", line 158, in _start_notebook\n",
      "    from notebook import notebookapp as app\n",
      "  File \"/Users/dongdori/Library/Python/3.8/lib/python/site-packages/notebook/notebookapp.py\", line 78, in <module>\n",
      "    from .services.kernels.kernelmanager import MappingKernelManager, AsyncMappingKernelManager\n",
      "  File \"/Users/dongdori/Library/Python/3.8/lib/python/site-packages/notebook/services/kernels/kernelmanager.py\", line 18, in <module>\n",
      "    from jupyter_client.session import Session\n",
      "  File \"/Users/dongdori/Library/Python/3.8/lib/python/site-packages/jupyter_client/__init__.py\", line 6, in <module>\n",
      "    from .asynchronous import AsyncKernelClient  # noqa\n",
      "  File \"/Users/dongdori/Library/Python/3.8/lib/python/site-packages/jupyter_client/asynchronous/__init__.py\", line 1, in <module>\n",
      "    from .client import AsyncKernelClient  # noqa\n",
      "  File \"/Users/dongdori/Library/Python/3.8/lib/python/site-packages/jupyter_client/asynchronous/client.py\", line 6, in <module>\n",
      "    from jupyter_client.channels import HBChannel\n",
      "  File \"/Users/dongdori/Library/Python/3.8/lib/python/site-packages/jupyter_client/channels.py\", line 15, in <module>\n",
      "    from .session import Session\n",
      "  File \"/Users/dongdori/Library/Python/3.8/lib/python/site-packages/jupyter_client/session.py\", line 52, in <module>\n",
      "    from jupyter_client.jsonutil import extract_dates\n",
      "  File \"/Users/dongdori/Library/Python/3.8/lib/python/site-packages/jupyter_client/jsonutil.py\", line 15, in <module>\n",
      "    from dateutil.parser import parse as _dateutil_parse  # type: ignore\n",
      "  File \"/Users/dongdori/Library/Python/3.8/lib/python/site-packages/dateutil/parser/__init__.py\", line 2, in <module>\n",
      "    from ._parser import parse, parser, parserinfo, ParserError\n",
      "  File \"/Users/dongdori/Library/Python/3.8/lib/python/site-packages/dateutil/parser/_parser.py\", line 42, in <module>\n",
      "    import six\n",
      "ModuleNotFoundError: No module named 'six'\n",
      "\n",
      "During handling of the above exception, another exception occurred:\n",
      "\n",
      "Traceback (most recent call last):\n",
      "  File \"/Users/dongdori/.vscode/extensions/ms-toolsai.jupyter-2022.6.1201981810/pythonFiles/vscode_datascience_helpers/daemon/daemon_python.py\", line 54, in _decorator\n",
      "    return func(self, *args, **kwargs)\n",
      "  File \"/Users/dongdori/.vscode/extensions/ms-toolsai.jupyter-2022.6.1201981810/pythonFiles/vscode_datascience_helpers/jupyter_daemon.py\", line 111, in m_exec_module_observable\n",
      "    self._start_notebook(args, cwd, env)\n",
      "  File \"/Users/dongdori/.vscode/extensions/ms-toolsai.jupyter-2022.6.1201981810/pythonFiles/vscode_datascience_helpers/jupyter_daemon.py\", line 160, in _start_notebook\n",
      "    from notebook import app as app\n",
      "ImportError: cannot import name 'app' from 'notebook' (/Users/dongdori/Library/Python/3.8/lib/python/site-packages/notebook/__init__.py)\n",
      "\n",
      "Failed to run jupyter as observable with args notebook --no-browser --notebook-dir=\"/Users/dongdori/workspace/codespace/projects/VPT_CoOp\" --config=/var/folders/pt/rfm037cn1xd9trgqzn68cc4w0000gn/T/8c4f1fd4-8ac2-473e-9891-58b2ff0b9208/jupyter_notebook_config.py --NotebookApp.iopub_data_rate_limit=10000000000.0. \n",
      "자세한 내용은 Jupyter <a href='command:jupyter.viewOutput'>로그</a>를 참조하세요."
     ]
    }
   ],
   "source": [
    "import numpy as np"
   ]
  },
  {
   "cell_type": "code",
   "execution_count": null,
   "metadata": {},
   "outputs": [],
   "source": []
  }
 ],
 "metadata": {
  "kernelspec": {
   "display_name": "Python 3.8.13 ('vptcoop')",
   "language": "python",
   "name": "python3"
  },
  "language_info": {
   "name": "python",
   "version": "3.8.13"
  },
  "orig_nbformat": 4,
  "vscode": {
   "interpreter": {
    "hash": "16de75cc2a17725c35becfbef32e5ed8e3d52d697a81adf1deaddc974c21c667"
   }
  }
 },
 "nbformat": 4,
 "nbformat_minor": 2
}
